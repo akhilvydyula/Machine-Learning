{
  "nbformat": 4,
  "nbformat_minor": 0,
  "metadata": {
    "colab": {
      "name": "Learning_python@aaic.ipynb",
      "provenance": [],
      "collapsed_sections": [],
      "authorship_tag": "ABX9TyPzDVZgz9OvgLqfm16gsbYC",
      "include_colab_link": true
    },
    "kernelspec": {
      "name": "python3",
      "display_name": "Python 3"
    }
  },
  "cells": [
    {
      "cell_type": "markdown",
      "metadata": {
        "id": "view-in-github",
        "colab_type": "text"
      },
      "source": [
        "<a href=\"https://colab.research.google.com/github/akhilvydyula/Machine-Learning/blob/master/Learning_python_aaic.ipynb\" target=\"_parent\"><img src=\"https://colab.research.google.com/assets/colab-badge.svg\" alt=\"Open In Colab\"/></a>"
      ]
    },
    {
      "cell_type": "code",
      "metadata": {
        "id": "SXRBaGT2BBEw",
        "colab_type": "code",
        "colab": {
          "base_uri": "https://localhost:8080/",
          "height": 34
        },
        "outputId": "b339798d-202f-4ca4-9cdd-7f8ec2272cec"
      },
      "source": [
        "#lamdba funtions\n",
        "\n",
        "akhil = lambda x : x*2\n",
        "\n",
        "print(akhil(3))\n"
      ],
      "execution_count": 3,
      "outputs": [
        {
          "output_type": "stream",
          "text": [
            "6\n"
          ],
          "name": "stdout"
        }
      ]
    },
    {
      "cell_type": "code",
      "metadata": {
        "id": "QJgU2-teBkWy",
        "colab_type": "code",
        "colab": {
          "base_uri": "https://localhost:8080/",
          "height": 51
        },
        "outputId": "c3050cc1-ce06-4b99-f7cd-c95ee11434b9"
      },
      "source": [
        "akhil = [2,4,5,6,7] #list of elements\n",
        "\n",
        "sai = list(filter(lambda y : y%2,akhil)) # applying filter on top of list, lets print sai\n",
        "\n",
        "print(sai)\n",
        "\n",
        "# which is exactly prints only odd number in list and filters its out from list right!!\n",
        "\n",
        "#lets see even too\n",
        "\n",
        "vydyula = [3,5,1,7,4,1,0] \n",
        "\n",
        "chinnu = list(filter(lambda j : (j%2==0),vydyula ))\n",
        "\n",
        "print(chinnu)\n"
      ],
      "execution_count": 8,
      "outputs": [
        {
          "output_type": "stream",
          "text": [
            "[5, 7]\n",
            "[4, 0]\n"
          ],
          "name": "stdout"
        }
      ]
    },
    {
      "cell_type": "code",
      "metadata": {
        "id": "awWHVVGBDJwd",
        "colab_type": "code",
        "colab": {
          "base_uri": "https://localhost:8080/",
          "height": 51
        },
        "outputId": "591ce810-7e00-4104-fb47-466508a4ca7c"
      },
      "source": [
        "#for map also same \n",
        "\n",
        "amu = list(map(lambda poti : poti*5,akhil))\n",
        "\n",
        "print(amu)\n",
        "\n",
        "# same as reduce but we can use more variables to perform at a time\n",
        "\n",
        "from functools import reduce\n",
        "\n",
        "arpita = reduce(lambda o,m : o * m, akhil)\n",
        "\n",
        "print(arpita)"
      ],
      "execution_count": 15,
      "outputs": [
        {
          "output_type": "stream",
          "text": [
            "[10, 20, 25, 30, 35]\n",
            "1680\n"
          ],
          "name": "stdout"
        }
      ]
    },
    {
      "cell_type": "code",
      "metadata": {
        "id": "k0GUL5JkDKRI",
        "colab_type": "code",
        "colab": {
          "base_uri": "https://localhost:8080/",
          "height": 986
        },
        "outputId": "b66208fd-4577-4280-8249-a42acff20cf0"
      },
      "source": [
        "#modules which we can use whenever we want. Instead of writing all code for all time. mainly we can use \"packages\"\n",
        "\n",
        "import math\n",
        "\n",
        "print(math.pi)\n",
        "print(math.tanh)\n",
        "import datetime\n",
        "# it shows present date and time\n",
        "print(datetime.datetime.now())\n",
        "\n",
        "import matplotlib.pyplot as plt\n",
        "x = [2,4,5,3]\n",
        "y = [4,6,7,1]\n",
        "\n",
        "plt.show(x,y)\n",
        "\n",
        "#directory and it shows what are functions present in module or package\n",
        "dir(math)"
      ],
      "execution_count": 34,
      "outputs": [
        {
          "output_type": "stream",
          "text": [
            "3.141592653589793\n",
            "<built-in function tanh>\n",
            "2020-03-10 15:44:58.708113\n"
          ],
          "name": "stdout"
        },
        {
          "output_type": "execute_result",
          "data": {
            "text/plain": [
              "['__doc__',\n",
              " '__loader__',\n",
              " '__name__',\n",
              " '__package__',\n",
              " '__spec__',\n",
              " 'acos',\n",
              " 'acosh',\n",
              " 'asin',\n",
              " 'asinh',\n",
              " 'atan',\n",
              " 'atan2',\n",
              " 'atanh',\n",
              " 'ceil',\n",
              " 'copysign',\n",
              " 'cos',\n",
              " 'cosh',\n",
              " 'degrees',\n",
              " 'e',\n",
              " 'erf',\n",
              " 'erfc',\n",
              " 'exp',\n",
              " 'expm1',\n",
              " 'fabs',\n",
              " 'factorial',\n",
              " 'floor',\n",
              " 'fmod',\n",
              " 'frexp',\n",
              " 'fsum',\n",
              " 'gamma',\n",
              " 'gcd',\n",
              " 'hypot',\n",
              " 'inf',\n",
              " 'isclose',\n",
              " 'isfinite',\n",
              " 'isinf',\n",
              " 'isnan',\n",
              " 'ldexp',\n",
              " 'lgamma',\n",
              " 'log',\n",
              " 'log10',\n",
              " 'log1p',\n",
              " 'log2',\n",
              " 'modf',\n",
              " 'nan',\n",
              " 'pi',\n",
              " 'pow',\n",
              " 'radians',\n",
              " 'sin',\n",
              " 'sinh',\n",
              " 'sqrt',\n",
              " 'tan',\n",
              " 'tanh',\n",
              " 'tau',\n",
              " 'trunc']"
            ]
          },
          "metadata": {
            "tags": []
          },
          "execution_count": 34
        }
      ]
    },
    {
      "cell_type": "code",
      "metadata": {
        "id": "iEx91va9HUh8",
        "colab_type": "code",
        "colab": {
          "base_uri": "https://localhost:8080/",
          "height": 187
        },
        "outputId": "f1180657-d18b-473e-a9e2-89c375862e8d"
      },
      "source": [
        "#numpy : One of most important for numerical calculations @datascience @AI @Science\n",
        "%%time \n",
        "#to know the how much time to run this cell\n",
        "import numpy as np\n",
        "\n",
        "chintu = np.array([2,4,65,2])\n",
        "print(chintu) #or\n",
        "print(np.arange(100))\n",
        "amma = np.arange(200)\n",
        "%timeit amma ** 2\n",
        "\n",
        "#arrays\n",
        "bujji = np.array([[3,2],[5,6],[40,5]])\n",
        "bujji"
      ],
      "execution_count": 51,
      "outputs": [
        {
          "output_type": "stream",
          "text": [
            "[ 2  4 65  2]\n",
            "[ 0  1  2  3  4  5  6  7  8  9 10 11 12 13 14 15 16 17 18 19 20 21 22 23\n",
            " 24 25 26 27 28 29 30 31 32 33 34 35 36 37 38 39 40 41 42 43 44 45 46 47\n",
            " 48 49 50 51 52 53 54 55 56 57 58 59 60 61 62 63 64 65 66 67 68 69 70 71\n",
            " 72 73 74 75 76 77 78 79 80 81 82 83 84 85 86 87 88 89 90 91 92 93 94 95\n",
            " 96 97 98 99]\n",
            "The slowest run took 17.67 times longer than the fastest. This could mean that an intermediate result is being cached.\n",
            "1000000 loops, best of 3: 956 ns per loop\n",
            "CPU times: user 3.99 s, sys: 1 ms, total: 3.99 s\n",
            "Wall time: 4 s\n"
          ],
          "name": "stdout"
        }
      ]
    },
    {
      "cell_type": "code",
      "metadata": {
        "id": "Y9r71uyOKfPY",
        "colab_type": "code",
        "colab": {
          "base_uri": "https://localhost:8080/",
          "height": 34
        },
        "outputId": "c33e892d-b1f1-43a4-c436-6161c2fe4eb3"
      },
      "source": [
        "d = np.arange(2,40,7)\n",
        "d"
      ],
      "execution_count": 56,
      "outputs": [
        {
          "output_type": "execute_result",
          "data": {
            "text/plain": [
              "array([ 2,  9, 16, 23, 30, 37])"
            ]
          },
          "metadata": {
            "tags": []
          },
          "execution_count": 56
        }
      ]
    },
    {
      "cell_type": "code",
      "metadata": {
        "id": "hE2g5FhLNDXB",
        "colab_type": "code",
        "colab": {
          "base_uri": "https://localhost:8080/",
          "height": 68
        },
        "outputId": "ae1a4eb5-b07a-468c-a89b-78bf86f8b1d6"
      },
      "source": [
        "dd = np.ones((3,3))\n",
        "dd"
      ],
      "execution_count": 55,
      "outputs": [
        {
          "output_type": "execute_result",
          "data": {
            "text/plain": [
              "array([[1., 1., 1.],\n",
              "       [1., 1., 1.],\n",
              "       [1., 1., 1.]])"
            ]
          },
          "metadata": {
            "tags": []
          },
          "execution_count": 55
        }
      ]
    },
    {
      "cell_type": "code",
      "metadata": {
        "id": "f1lrUjXONJFA",
        "colab_type": "code",
        "colab": {
          "base_uri": "https://localhost:8080/",
          "height": 85
        },
        "outputId": "390064c7-2c36-4c12-a144-e82be20e905f"
      },
      "source": [
        "ddd = np.zeros((4,4))\n",
        "ddd"
      ],
      "execution_count": 58,
      "outputs": [
        {
          "output_type": "execute_result",
          "data": {
            "text/plain": [
              "array([[0., 0., 0., 0.],\n",
              "       [0., 0., 0., 0.],\n",
              "       [0., 0., 0., 0.],\n",
              "       [0., 0., 0., 0.]])"
            ]
          },
          "metadata": {
            "tags": []
          },
          "execution_count": 58
        }
      ]
    },
    {
      "cell_type": "code",
      "metadata": {
        "id": "GhK6KWe5NOvH",
        "colab_type": "code",
        "colab": {
          "base_uri": "https://localhost:8080/",
          "height": 85
        },
        "outputId": "554f7b3b-a886-4a32-9cef-6c866a326d6c"
      },
      "source": [
        "#identical elements in matrix\n",
        "#diagonal elements are value 1\n",
        "np.eye(4)"
      ],
      "execution_count": 59,
      "outputs": [
        {
          "output_type": "execute_result",
          "data": {
            "text/plain": [
              "array([[1., 0., 0., 0.],\n",
              "       [0., 1., 0., 0.],\n",
              "       [0., 0., 1., 0.],\n",
              "       [0., 0., 0., 1.]])"
            ]
          },
          "metadata": {
            "tags": []
          },
          "execution_count": 59
        }
      ]
    },
    {
      "cell_type": "code",
      "metadata": {
        "id": "A4-MUk-hNZ5H",
        "colab_type": "code",
        "colab": {
          "base_uri": "https://localhost:8080/",
          "height": 102
        },
        "outputId": "f4388ac8-b382-4fcc-9696-81b078f4334d"
      },
      "source": [
        "#can we create diagonla matrix for particular values\n",
        "dia = np.diag([9,5,31,1,3])\n",
        "dia"
      ],
      "execution_count": 60,
      "outputs": [
        {
          "output_type": "execute_result",
          "data": {
            "text/plain": [
              "array([[ 9,  0,  0,  0,  0],\n",
              "       [ 0,  5,  0,  0,  0],\n",
              "       [ 0,  0, 31,  0,  0],\n",
              "       [ 0,  0,  0,  1,  0],\n",
              "       [ 0,  0,  0,  0,  3]])"
            ]
          },
          "metadata": {
            "tags": []
          },
          "execution_count": 60
        }
      ]
    },
    {
      "cell_type": "code",
      "metadata": {
        "id": "Kvd6RQYVN4QR",
        "colab_type": "code",
        "colab": {
          "base_uri": "https://localhost:8080/",
          "height": 34
        },
        "outputId": "d9d9d562-96d9-4196-9126-c1852dd06c08"
      },
      "source": [
        "h = np.arange(7)\n",
        "h[::-4] # which is reverse of array"
      ],
      "execution_count": 61,
      "outputs": [
        {
          "output_type": "execute_result",
          "data": {
            "text/plain": [
              "array([6, 2])"
            ]
          },
          "metadata": {
            "tags": []
          },
          "execution_count": 61
        }
      ]
    },
    {
      "cell_type": "code",
      "metadata": {
        "id": "fRLCSdNCTEXR",
        "colab_type": "code",
        "colab": {
          "base_uri": "https://localhost:8080/",
          "height": 34
        },
        "outputId": "ce2c5744-26f1-4646-a8a2-3a3823118af6"
      },
      "source": [
        "arra = np.array([4,5,6,2,1])\n",
        "arra + 1  #scalar addition"
      ],
      "execution_count": 65,
      "outputs": [
        {
          "output_type": "execute_result",
          "data": {
            "text/plain": [
              "array([5, 6, 7, 3, 2])"
            ]
          },
          "metadata": {
            "tags": []
          },
          "execution_count": 65
        }
      ]
    },
    {
      "cell_type": "code",
      "metadata": {
        "id": "XVI99HJZUI49",
        "colab_type": "code",
        "colab": {
          "base_uri": "https://localhost:8080/",
          "height": 34
        },
        "outputId": "69cb91ba-5c0e-4a20-94a2-5aae55caac4f"
      },
      "source": [
        "arra * 2  #element wise multiplication"
      ],
      "execution_count": 66,
      "outputs": [
        {
          "output_type": "execute_result",
          "data": {
            "text/plain": [
              "array([ 8, 10, 12,  4,  2])"
            ]
          },
          "metadata": {
            "tags": []
          },
          "execution_count": 66
        }
      ]
    },
    {
      "cell_type": "code",
      "metadata": {
        "id": "Y2_sL9mVT3ZZ",
        "colab_type": "code",
        "colab": {
          "base_uri": "https://localhost:8080/",
          "height": 34
        },
        "outputId": "83e9de25-f0b3-43e1-accc-789d2711dc80"
      },
      "source": [
        "arra % 2  #module by 2"
      ],
      "execution_count": 67,
      "outputs": [
        {
          "output_type": "execute_result",
          "data": {
            "text/plain": [
              "array([0, 1, 0, 0, 1])"
            ]
          },
          "metadata": {
            "tags": []
          },
          "execution_count": 67
        }
      ]
    },
    {
      "cell_type": "code",
      "metadata": {
        "id": "M3FkzU4MULgY",
        "colab_type": "code",
        "colab": {
          "base_uri": "https://localhost:8080/",
          "height": 119
        },
        "outputId": "f67ec38c-08bc-4692-cea9-598c282ed034"
      },
      "source": [
        "mer = np.diag([4,5,6,2,7])\n",
        "mer * mer\n",
        "print(\"********************or******************************\")\n",
        "mer.dot(mer)"
      ],
      "execution_count": 70,
      "outputs": [
        {
          "output_type": "stream",
          "text": [
            "*****************************************************\n"
          ],
          "name": "stdout"
        },
        {
          "output_type": "execute_result",
          "data": {
            "text/plain": [
              "array([[16,  0,  0,  0,  0],\n",
              "       [ 0, 25,  0,  0,  0],\n",
              "       [ 0,  0, 36,  0,  0],\n",
              "       [ 0,  0,  0,  4,  0],\n",
              "       [ 0,  0,  0,  0, 49]])"
            ]
          },
          "metadata": {
            "tags": []
          },
          "execution_count": 70
        }
      ]
    },
    {
      "cell_type": "code",
      "metadata": {
        "id": "1cFAo1pcUwQp",
        "colab_type": "code",
        "colab": {
          "base_uri": "https://localhost:8080/",
          "height": 34
        },
        "outputId": "51483b18-2404-4ff3-df9a-40a484c7fa4e"
      },
      "source": [
        "#axis=0 column wise sum\n",
        "#axis=1 row wise sum\n",
        "\n",
        "stupid = np.array([[4,3,2,5,2],[3,4,51,456,1]])\n",
        "stupid.sum(axis=0)\n"
      ],
      "execution_count": 78,
      "outputs": [
        {
          "output_type": "execute_result",
          "data": {
            "text/plain": [
              "array([  7,   7,  53, 461,   3])"
            ]
          },
          "metadata": {
            "tags": []
          },
          "execution_count": 78
        }
      ]
    },
    {
      "cell_type": "code",
      "metadata": {
        "id": "TMjdFF_bVfMz",
        "colab_type": "code",
        "colab": {
          "base_uri": "https://localhost:8080/",
          "height": 34
        },
        "outputId": "38ae057a-4b9c-4d8f-abf7-b2e14e43fc40"
      },
      "source": [
        "stupid.sum(axis=1)"
      ],
      "execution_count": 79,
      "outputs": [
        {
          "output_type": "execute_result",
          "data": {
            "text/plain": [
              "array([ 16, 515])"
            ]
          },
          "metadata": {
            "tags": []
          },
          "execution_count": 79
        }
      ]
    },
    {
      "cell_type": "code",
      "metadata": {
        "id": "XNte8wgpVi5i",
        "colab_type": "code",
        "colab": {
          "base_uri": "https://localhost:8080/",
          "height": 34
        },
        "outputId": "6d424e1e-76da-422c-9d42-92e0e9cdc03d"
      },
      "source": [
        "stupid.max()"
      ],
      "execution_count": 81,
      "outputs": [
        {
          "output_type": "execute_result",
          "data": {
            "text/plain": [
              "456"
            ]
          },
          "metadata": {
            "tags": []
          },
          "execution_count": 81
        }
      ]
    },
    {
      "cell_type": "code",
      "metadata": {
        "id": "MSSsr5ezV0KP",
        "colab_type": "code",
        "colab": {
          "base_uri": "https://localhost:8080/",
          "height": 34
        },
        "outputId": "b6304bcc-3b12-4e77-d6d8-1e54735c663b"
      },
      "source": [
        "stupid.min()"
      ],
      "execution_count": 82,
      "outputs": [
        {
          "output_type": "execute_result",
          "data": {
            "text/plain": [
              "1"
            ]
          },
          "metadata": {
            "tags": []
          },
          "execution_count": 82
        }
      ]
    },
    {
      "cell_type": "code",
      "metadata": {
        "id": "eO5vMxc9V5sU",
        "colab_type": "code",
        "colab": {
          "base_uri": "https://localhost:8080/",
          "height": 34
        },
        "outputId": "c9344e5f-b19c-4d02-9249-506e81ec2ed2"
      },
      "source": [
        "#argmax is the index of max element\n",
        "stupid.argmax()\n",
        "#argmin is the index of min element\n",
        "stupid.argmin()"
      ],
      "execution_count": 84,
      "outputs": [
        {
          "output_type": "execute_result",
          "data": {
            "text/plain": [
              "9"
            ]
          },
          "metadata": {
            "tags": []
          },
          "execution_count": 84
        }
      ]
    },
    {
      "cell_type": "code",
      "metadata": {
        "id": "nWRAMzQZWUrs",
        "colab_type": "code",
        "colab": {
          "base_uri": "https://localhost:8080/",
          "height": 312
        },
        "outputId": "63c232b2-3726-4d84-8979-2b6fb4a4e0f7"
      },
      "source": [
        "#matplot lib : plotting liberies visualization of data in dimensional networks\n",
        "import matplotlib.pyplot as plt\n",
        "plt.plot([2,4,6,8,3,2,1,23],linewidth=10,color='skyblue')\n",
        "plt.xlabel(\"Unknown\")\n",
        "plt.ylabel(\"Unknown\")\n",
        "plt.title(\"Hello this is first plot\",color='red')\n",
        "plt.legend()\n",
        "plt.grid()\n",
        "plt.show()"
      ],
      "execution_count": 94,
      "outputs": [
        {
          "output_type": "stream",
          "text": [
            "No handles with labels found to put in legend.\n"
          ],
          "name": "stderr"
        },
        {
          "output_type": "display_data",
          "data": {
            "image/png": "[encoded data removed]",
            "text/plain": [
              "<Figure size 432x288 with 1 Axes>"
            ]
          },
          "metadata": {
            "tags": []
          }
        }
      ]
    },
    {
      "cell_type": "code",
      "metadata": {
        "id": "EsJ6rglwaTIn",
        "colab_type": "code",
        "colab": {
          "base_uri": "https://localhost:8080/",
          "height": 312
        },
        "outputId": "a7e03da2-1c30-4f1f-8791-765a991373e8"
      },
      "source": [
        "x1 = [3,4,2,1]\n",
        "y1 = [3,4,5,2]\n",
        "x2 = [4,4,4,4]\n",
        "y2 = [0,2,1,4]\n",
        "plt.plot([x1,y1],linewidth=10,color='skyblue')\n",
        "plt.plot([x2,y2],linewidth=5,color='green')\n",
        "plt.xlabel(\"Unknown\")\n",
        "plt.ylabel(\"Unknown\")\n",
        "plt.title(\"Hello this is second plot\",color='purple')\n",
        "plt.legend()\n",
        "plt.grid()\n",
        "plt.show()"
      ],
      "execution_count": 97,
      "outputs": [
        {
          "output_type": "stream",
          "text": [
            "No handles with labels found to put in legend.\n"
          ],
          "name": "stderr"
        },
        {
          "output_type": "display_data",
          "data": {
            "image/png": "[encoded data removed]",
            "text/plain": [
              "<Figure size 432x288 with 1 Axes>"
            ]
          },
          "metadata": {
            "tags": []
          }
        }
      ]
    },
    {
      "cell_type": "code",
      "metadata": {
        "id": "OvyX4am4bz6Q",
        "colab_type": "code",
        "colab": {
          "base_uri": "https://localhost:8080/",
          "height": 122
        },
        "outputId": "a7386fd7-16bc-40e1-e6e9-7e370faf8ea9"
      },
      "source": [
        "# pandas : to read the data and read,arrange tabular data\n",
        "# Load the Drive helper and mount\n",
        "from google.colab import drive\n",
        "\n",
        "# This will prompt for authorization.\n",
        "drive.mount('/content/drive')\n"
      ],
      "execution_count": 98,
      "outputs": [
        {
          "output_type": "stream",
          "text": [
            "Go to this URL in a browser: https://accounts.google.com/o/oauth2/auth?client_id=947318989803-6bn6qk8qdgf4n4g3pfee6491hc0brc4i.apps.googleusercontent.com&redirect_uri=urn%3aietf%3awg%3aoauth%3a2.0%3aoob&response_type=code&scope=email%20https%3a%2f%2fwww.googleapis.com%2fauth%2fdocs.test%20https%3a%2f%2fwww.googleapis.com%2fauth%2fdrive%20https%3a%2f%2fwww.googleapis.com%2fauth%2fdrive.photos.readonly%20https%3a%2f%2fwww.googleapis.com%2fauth%2fpeopleapi.readonly\n",
            "\n",
            "Enter your authorization code:\n",
            "··········\n",
            "Mounted at /content/drive\n"
          ],
          "name": "stdout"
        }
      ]
    },
    {
      "cell_type": "code",
      "metadata": {
        "id": "GgtpFPiIZINM",
        "colab_type": "code",
        "colab": {
          "base_uri": "https://localhost:8080/",
          "height": 187
        },
        "outputId": "4ecb9023-6afb-4b51-c53f-70ebb380f12d"
      },
      "source": [
        "#lists the content of your google drive\n",
        "!ls \"/content/drive/My Drive/AAIC\""
      ],
      "execution_count": 99,
      "outputs": [
        {
          "output_type": "stream",
          "text": [
            " Automated-Response-Suggestion-for-Email-master.zip   Notes\n",
            " bow.csv\t\t\t\t\t      qa_dataset.csv\n",
            " cleaned_strings\t\t\t\t      resources.csv\n",
            " database.sqlite\t\t\t\t      train.csv\n",
            " Db-IMDB.db\t\t\t\t\t      train_data.csv\n",
            " deck.json\t\t\t\t\t      training_text\n",
            " final_features.csv\t\t\t\t      training_variants\n",
            " haberman.csv\t\t\t\t\t      trainLabels.csv\n",
            " haberman.ipynb\t\t\t\t\t      Train.zip\n",
            "'Logistic Regression using SGD.ipynb'\t\t      weather.csv\n"
          ],
          "name": "stdout"
        }
      ]
    },
    {
      "cell_type": "code",
      "metadata": {
        "id": "CYpWqTC7e6mc",
        "colab_type": "code",
        "colab": {}
      },
      "source": [
        "#To open a file\n",
        "import pandas as pd\n",
        "\n",
        "#read the data\n",
        "data=pd.read_csv('drive/My Drive/AAIC/weather.csv') #READ data"
      ],
      "execution_count": 0,
      "outputs": []
    },
    {
      "cell_type": "code",
      "metadata": {
        "id": "k7luzzpBfBL0",
        "colab_type": "code",
        "colab": {
          "base_uri": "https://localhost:8080/",
          "height": 224
        },
        "outputId": "fe2f99e1-c27e-4222-f4ef-f3a7c8d4b321"
      },
      "source": [
        "data.head()"
      ],
      "execution_count": 105,
      "outputs": [
        {
          "output_type": "execute_result",
          "data": {
            "text/html": [
              "<div>\n",
              "<style scoped>\n",
              "    .dataframe tbody tr th:only-of-type {\n",
              "        vertical-align: middle;\n",
              "    }\n",
              "\n",
              "    .dataframe tbody tr th {\n",
              "        vertical-align: top;\n",
              "    }\n",
              "\n",
              "    .dataframe thead th {\n",
              "        text-align: right;\n",
              "    }\n",
              "</style>\n",
              "<table border=\"1\" class=\"dataframe\">\n",
              "  <thead>\n",
              "    <tr style=\"text-align: right;\">\n",
              "      <th></th>\n",
              "      <th>date;temperaturemin;temperaturemax;precipitation;snowfall;snowdepth;avgwindspeed;fastest2minwinddir;fastest2minwindspeed;fastest5secwinddir;fastest5secwindspeed;fog;fogheavy;mist;rain;fogground;ice;glaze;drizzle;snow;freezingrain;smokehaze;thunder;highwind;hail;blowingsnow;dust;freezingfog</th>\n",
              "    </tr>\n",
              "  </thead>\n",
              "  <tbody>\n",
              "    <tr>\n",
              "      <th>0</th>\n",
              "      <td>2007-01-06;50.0;71.1;0.13;0.0;0.0;8.05;230;17....</td>\n",
              "    </tr>\n",
              "    <tr>\n",
              "      <th>1</th>\n",
              "      <td>2007-01-09;30.0;55.0;0.0;0.0;0.0;7.61;280;23.0...</td>\n",
              "    </tr>\n",
              "    <tr>\n",
              "      <th>2</th>\n",
              "      <td>2007-01-14;50.0;73.9;0.0;0.0;0.0;8.5;230;21.03...</td>\n",
              "    </tr>\n",
              "    <tr>\n",
              "      <th>3</th>\n",
              "      <td>2007-01-15;57.0;73.9;0.0;0.0;0.0;13.2;230;23.9...</td>\n",
              "    </tr>\n",
              "    <tr>\n",
              "      <th>4</th>\n",
              "      <td>2007-01-20;26.1;48.0;0.0;0.0;0.0;4.92;290;16.1...</td>\n",
              "    </tr>\n",
              "  </tbody>\n",
              "</table>\n",
              "</div>"
            ],
            "text/plain": [
              "  date;temperaturemin;temperaturemax;precipitation;snowfall;snowdepth;avgwindspeed;fastest2minwinddir;fastest2minwindspeed;fastest5secwinddir;fastest5secwindspeed;fog;fogheavy;mist;rain;fogground;ice;glaze;drizzle;snow;freezingrain;smokehaze;thunder;highwind;hail;blowingsnow;dust;freezingfog\n",
              "0  2007-01-06;50.0;71.1;0.13;0.0;0.0;8.05;230;17....                                                                                                                                                                                                                                                \n",
              "1  2007-01-09;30.0;55.0;0.0;0.0;0.0;7.61;280;23.0...                                                                                                                                                                                                                                                \n",
              "2  2007-01-14;50.0;73.9;0.0;0.0;0.0;8.5;230;21.03...                                                                                                                                                                                                                                                \n",
              "3  2007-01-15;57.0;73.9;0.0;0.0;0.0;13.2;230;23.9...                                                                                                                                                                                                                                                \n",
              "4  2007-01-20;26.1;48.0;0.0;0.0;0.0;4.92;290;16.1...                                                                                                                                                                                                                                                "
            ]
          },
          "metadata": {
            "tags": []
          },
          "execution_count": 105
        }
      ]
    }
  ]
}